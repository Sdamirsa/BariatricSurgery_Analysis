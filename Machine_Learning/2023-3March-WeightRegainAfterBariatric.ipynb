{
 "cells": [
  {
   "cell_type": "code",
   "execution_count": null,
   "metadata": {},
   "outputs": [],
   "source": [
    "import numpy as np\n",
    "import pandas as pd\n",
    "import matplotlib.pylab as plt\n",
    "import seaborn as sns\n",
    "from IPython.core.display import display, HTML\n",
    "display(HTML(\"<style>.container { width:100% !important; }</style>\"))\n",
    "import csv\n",
    "from sklearn.preprocessing import StandardScaler\n",
    "from sklearn.model_selection import cross_val_score, KFold, train_test_split\n",
    "from sklearn.neighbors import KNeighborsClassifier\n",
    "from sklearn.tree import DecisionTreeClassifier\n",
    "from sklearn.linear_model import LogisticRegression\n",
    "from sklearn.linear_model import LinearRegression\n",
    "from sklearn.linear_model import Ridge\n",
    "from sklearn.linear_model import Lasso\n",
    "from sklearn.model_selection import GridSearchCV\n",
    "from sklearn.ensemble import GradientBoostingRegressor\n",
    "from sklearn.model_selection import train_test_split\n",
    "import pickle"
   ]
  },
  {
   "cell_type": "code",
   "execution_count": null,
   "metadata": {
    "scrolled": false
   },
   "outputs": [],
   "source": [
    "#read data\n",
    "df_directory=r\"D:\\MY WORK\\MaGHALE\\bariatric\\Data E6.csv\"\n",
    "df=pd.read_csv(df_directory)\n",
    "df"
   ]
  },
  {
   "cell_type": "code",
   "execution_count": null,
   "metadata": {
    "scrolled": true
   },
   "outputs": [],
   "source": [
    "#Preprocessing -> Exploring Data\n",
    "for column in df:\n",
    "    print(column, df[column].dtype, \"{\", df[column].unique(),\"}\", \"\\n\\n\")"
   ]
  },
  {
   "cell_type": "code",
   "execution_count": null,
   "metadata": {},
   "outputs": [],
   "source": [
    "#selecting pre-surgery input features and \n",
    "# assuming 12-mont and 48 month post-surgery excess weight loss as the outcome\n",
    "Input_Columnlist_12month=[\"age\", \"Height\", \"WTpre\",\"BMIPpre\", \"FMpre\", \n",
    "                  \"FBSpre\", \"a1cpre\",\n",
    "                  \"astpre\",\"altpre\",\n",
    "                  \"EXTYPEpre\", \"INTENpre\", \"MINDAYpre\", \"SWpre\"]\n",
    "Target1_Column=[\"EWL12\"]\n",
    "Target2_Column=[\"EWL48\"]\n",
    "\n",
    "Filter_Columnlist=Target1_Column+Target2_Column+Input_Columnlist_12month\n",
    "df2=df.filter(items=Filter_Columnlist)\n",
    "df2"
   ]
  },
  {
   "cell_type": "code",
   "execution_count": null,
   "metadata": {
    "scrolled": true
   },
   "outputs": [],
   "source": [
    "#Preprocessing -> Exploring Coutns and Missing\n",
    "for column in df2:\n",
    "    print(column, \"Missing={\",df2[column].isnull().sum(),\"}\", df[column].dtype, \"{\", df[column].unique(),\"}\", \"\\n\\n\")"
   ]
  },
  {
   "cell_type": "code",
   "execution_count": null,
   "metadata": {
    "scrolled": false
   },
   "outputs": [],
   "source": [
    "#Preprocessing -> Transforming dummy variables\n",
    "df3= pd.get_dummies(df2,drop_first=True)\n",
    "df3"
   ]
  },
  {
   "cell_type": "code",
   "execution_count": null,
   "metadata": {},
   "outputs": [],
   "source": [
    "# exploring data -> scatter plot\n",
    "pic_list=[]\n",
    "fig = plt.figure()\n",
    "for column in df3:\n",
    "    plt.scatter(df3[column], df3[\"EWL12\"])\n",
    "    plt.xlabel(str(column))\n",
    "    plt.show()"
   ]
  },
  {
   "cell_type": "markdown",
   "metadata": {},
   "source": [
    "# Regression"
   ]
  },
  {
   "cell_type": "code",
   "execution_count": null,
   "metadata": {},
   "outputs": [],
   "source": []
  },
  {
   "cell_type": "code",
   "execution_count": null,
   "metadata": {
    "scrolled": false
   },
   "outputs": [],
   "source": [
    "# we will create a loop to get results of models using before-surgery features. \n",
    "#1-Inputs: All, Target: 12 Month EWL; 2-Inputs: All, Target: 48 Month EWL; 3-Inputs: Selected, Target: 12 Month EWL; 4- Inputs: Selected, Target: 48 Month EWL\n",
    "# Split the data in \n",
    "results=[]\n",
    "result_Heads=[]\n",
    "\n",
    "for x in [1,2,3,4]:\n",
    "    #define input and targets\n",
    "    X_raw=df3.iloc[:,2:]\n",
    "    y12_raw=df3.iloc[:,0:1].values\n",
    "    y48_raw=df3.iloc[:,1:2].values\n",
    "    \n",
    "    if x==1:\n",
    "        plot_head=\"The cross validaiton results of four regression models. Inputs: All, Target: 12 Month EWL\"\n",
    "        dict_head=\"InputAll_Target12\"\n",
    "        X_train_raw, X_test_raw, y_train, y_test = train_test_split(X_raw,y12_raw, test_size=0.1, random_state=14)\n",
    "        y_raw=y12_raw\n",
    "        result_head=\"InputAll_Output12\"\n",
    "    elif x==2:\n",
    "        plot_head=\"The cross validaiton results of four regression models. Inputs: All, Target: 48 Month EWL\"\n",
    "        X_train_raw, X_test_raw, y_train, y_test = train_test_split(X_raw,y48_raw, test_size=0.1, random_state=14)\n",
    "        y_raw=y48_raw\n",
    "        dict_head=\"InputAll_Target48\"\n",
    "        result_head=\"InputAll_Output48\"\n",
    "    elif x==3:\n",
    "        plot_head=\"The cross validaiton results of four regression models. Inputs: Selected, Target: 12 Month EWL\"\n",
    "        X_train_raw, X_test_raw, y_train, y_test = train_test_split(X_raw,y12_raw, test_size=0.1, random_state=14)\n",
    "        X_train_selected=X_train.filter(items=[\"age\", \"Height\", \"WTpre\", \"BMIpre\", \"FMpre\", \"MINDAYpre\", \"SWpre\", \"InTENpre_Moderate\"])\n",
    "        X_test=X_test.filter(items=[\"age\", \"Height\", \"WTpre\", \"BMIpre\", \"FMpre\", \"MINDAYpre\", \"SWpre\", \"InTENpre_Moderate\"])\n",
    "        y_raw=y12_raw\n",
    "        result_head=\"InputSelected_Output12\"\n",
    "    elif x==4:\n",
    "        plot_head=\"The cross validaiton results of four regression models. Inputs: Selected, Target: 48 Month EWL\"\n",
    "        X_train_raw, X_test_raw, y_train, y_test = train_test_split(X_raw,y48_raw, test_size=0.1, random_state=14)\n",
    "        X_train_selected=X_train.filter(items=[\"age\", \"Height\", \"WTpre\", \"BMIpre\", \"FMpre\", \"MINDAYpre\", \"SWpre\", \"InTENpre_Moderate\"])\n",
    "        X_test=X_test.filter(items=[\"age\", \"Height\", \"WTpre\", \"BMIpre\", \"FMpre\", \"MINDAYpre\", \"SWpre\", \"InTENpre_Moderate\"])\n",
    "        y_raw=y48_raw\n",
    "        result_head=\"InputSelected_Output48\"\n",
    "    \n",
    "\n",
    "\n",
    "    X_train_selected=X_train.filter(items=[\"age\", \"Height\", \"WTpre\", \"BMIpre\", \"FMpre\", \"MINDAYpre\", \"SWpre\", \"InTENpre_Moderate\"])\n",
    "    X_test=X_test.filter(items=[\"age\", \"Height\", \"WTpre\", \"BMIpre\", \"FMpre\", \"MINDAYpre\", \"SWpre\", \"InTENpre_Moderate\"])\n",
    "\n",
    "    # Preprocessing -> StandardScaler\n",
    "    scaler = StandardScaler()\n",
    "    X_train_raw_scaled=scaler.fit_transform(X_train_raw)\n",
    "    X_test_raw_scaled=scaler.fit_transform(X_test_raw)\n",
    "    X_raw=scaler.fit_transform(X_raw)\n",
    "    \n",
    "\n",
    "    #finding best parameters for GBR using GridSearch\n",
    "    parameters = {'learning_rate': [0.01,0.02,0.03,0.04],\n",
    "          'subsample'    : [0.9, 0.5, 0.2, 0.1],\n",
    "          'n_estimators' : [100,500,1000, 1500],\n",
    "          'max_depth'    : [4,6,8,10]}\n",
    "    grid_GBR=GridSearchCV(estimator=GBR, param_grid=parameters, cv=5, n_jobs=-1)\n",
    "    grid_GBR.fit(X_train_raw_scaled, y_train)\n",
    "    gbr_score= grid_GBR.best_score_\n",
    "    gbr_bestparam=grid_GBR.best_params_\n",
    "    print(\"for gbr model best score is {} with best parameters {} \".format(gbr_score,gbr_bestparam))\n",
    "\n",
    "    # getting the cross validation results with best parameters\n",
    "    gbrmodel=GradientBoostingRegressor(learning_rate= gbr_bestparam[\"learning_rate\"] ,\n",
    "                                       subsample= gbr_bestparam[\"subsample\"] ,\n",
    "                                       n_estimators=gbr_bestparam[\"n_estimators\"] ,\n",
    "                                       max_depth=gbr_bestparam[\"max_depth\"])\n",
    "    kf = KFold(n_splits=5, random_state=13, shuffle=True)\n",
    "    gbrcv_results=cross_val_score(gbrmodel, X_raw, y_raw, cv=kf)\n",
    "    results.append(gbrcv_results)\n",
    "    result_heading=\"GBR_\"+result_head+ \": Hyperparameters of LR={},subsample={},n_estimator={}, max_depth={}\".format(gbr_bestparam[\"learning_rate\"], \n",
    "                                                                                                                  gbr_bestparam[\"subsample\"], \n",
    "                                                                                                                  gbr_bestparam[\"n_estimators\"],\n",
    "                                                                                                                  gbr_bestparam[\"max_depth\"])\n",
    "    \n",
    "    result_Heads.append(result_heading)\n",
    "\n",
    "\n",
    "    #finding best alpha parameters for lasso regression\n",
    "    scores_dict = {}\n",
    "    for alpha in [0.01, 0.05, 1.0, 2, 3, 4, 10.0, 20.0, 50.0]:\n",
    "        lasso = Lasso(alpha=alpha)\n",
    "        lasso.fit(X_train_raw_scaled, y_train)\n",
    "        lasso_pred = lasso.predict(X_test_raw_scaled)\n",
    "        score=lasso.score(X_test_raw_scaled, y_test)\n",
    "        scores_dict[alpha]=score\n",
    "        print(\"for alpha of {} the score is {}\".format(alpha, score))\n",
    "    print(scores_dict)\n",
    "    # getting the cross validation results with best parameters\n",
    "    selected_lasso = Lasso(alpha=max(scores_dict, key=scores_dict.get))\n",
    "    kf = KFold(n_splits=5, random_state=13, shuffle=True)\n",
    "    lassocv_results=cross_val_score(selected_lasso, X_raw, y_raw, cv=kf)\n",
    "    results.append(lassocv_results)\n",
    "    result_heading=\"Lasso_\"+result_head+\": Hyperparameters of alpha={}\".format(max(scores_dict, key=scores_dict.get))\n",
    "    result_Heads.append(result_heading)\n",
    "    \n",
    "\n",
    "\n",
    "    #finding best alpha parameters for rige regression\n",
    "    scores_dict = {}\n",
    "    for alpha in [0.01, 0.05, 1.0, 2, 3, 4, 10.0, 20.0, 50.0]:\n",
    "        ridge = Ridge(alpha=alpha)\n",
    "        ridge.fit(X_train_raw_scaled, y_train)\n",
    "        ridge_pred = lasso.predict(X_test_raw_scaled)\n",
    "        score=ridge.score(X_test_raw_scaled, y_test)\n",
    "        scores_dict[alpha]=score\n",
    "        print(\"for alpha of {} the score is {}\".format(alpha, score))\n",
    "    print(scores_dict)\n",
    "    # getting the cross validation results with best parameters\n",
    "    selected_ridge = Ridge(alpha=max(scores_dict, key=scores_dict.get))\n",
    "    kf = KFold(n_splits=5, random_state=13, shuffle=True)\n",
    "    ridgcv_results=cross_val_score(selected_ridge, X_raw, y_raw, cv=kf)\n",
    "    results.append(ridgcv_results)\n",
    "    result_heading=\"Ridge_\"+result_head+\": Hyperparameters of alpha={}\".format(max(scores_dict, key=scores_dict.get))\n",
    "    result_Heads.append(result_heading)\n",
    "\n",
    "\n",
    "    # The linear regression model\n",
    "    reg = LinearRegression()\n",
    "    kf = KFold(n_splits=5, random_state=13, shuffle=True)\n",
    "    regcv_results=cross_val_score(reg, X_raw, y_raw, cv=kf)\n",
    "    results.append(regcv_results)\n",
    "    result_heading=\"LinearRegression_\"+result_head\n",
    "    result_Heads.append(result_heading)\n",
    "    pd.DataFrame({\"head\": result_Heads,\"results\": results}, columns=['head','results'])"
   ]
  },
  {
   "cell_type": "code",
   "execution_count": null,
   "metadata": {
    "scrolled": false
   },
   "outputs": [],
   "source": [
    "results_mean=[]\n",
    "results_std=[]\n",
    "for i in results:\n",
    "    print(i)\n",
    "    results_mean.append(np.mean(i))\n",
    "    results_std.append(np.std(i))\n",
    "print(results_mean,results_std)\n",
    "df_Resultsoutput=pd.DataFrame({\"head\": result_Heads,\"5FoldCV_results\": results, \"mean\": results_mean, \"std\": results_std}, columns=['head','5FoldCV_results', 'mean', 'std'])\n",
    "Results_output"
   ]
  },
  {
   "cell_type": "code",
   "execution_count": null,
   "metadata": {
    "scrolled": true
   },
   "outputs": [],
   "source": [
    "short_head=[]\n",
    "\n",
    "for i in df_Resultsoutput[\"head\"]:\n",
    "    seprator= \":\"\n",
    "    short_head.append(i.split(seprator, 1)[0])\n",
    "\n",
    "df_Resultsoutput[\"short_head\"]=short_head\n",
    "df_Resultsoutput"
   ]
  },
  {
   "cell_type": "code",
   "execution_count": null,
   "metadata": {
    "scrolled": false
   },
   "outputs": [],
   "source": [
    "df_boxplot= df_Resultsoutput.drop([\"mean\",\"std\",\"head\"], axis=1)\n",
    "\n",
    "CV1=[]\n",
    "CV2=[]\n",
    "CV3=[]\n",
    "CV4=[]\n",
    "CV5=[]\n",
    "for i in df_boxplot[\"5FoldCV_results\"]:\n",
    "    CV1.append(i[0])\n",
    "    CV2.append(i[1])\n",
    "    CV3.append(i[2])\n",
    "    CV4.append(i[3])\n",
    "    CV5.append(i[4])\n",
    "df_boxplot[\"CV1\"]=CV1\n",
    "df_boxplot[\"CV2\"]=CV2\n",
    "df_boxplot[\"CV3\"]=CV3\n",
    "df_boxplot[\"CV4\"]=CV4\n",
    "df_boxplot[\"CV5\"]=CV5\n",
    "df_boxplot=df_boxplot.set_index(\"short_head\")\n",
    "df_boxplot=df_boxplot.drop([\"5FoldCV_results\"], axis=1)\n",
    "df_boxplot=df_boxplot.T\n",
    "df_boxplot"
   ]
  },
  {
   "cell_type": "code",
   "execution_count": null,
   "metadata": {},
   "outputs": [],
   "source": [
    "df_boxplot.boxplot( rot=90, fontsize=15)"
   ]
  },
  {
   "cell_type": "markdown",
   "metadata": {},
   "source": [
    "# Classification"
   ]
  },
  {
   "cell_type": "code",
   "execution_count": null,
   "metadata": {},
   "outputs": [],
   "source": [
    "#read data\n",
    "df_directory=r\"D:\\MY WORK\\MaGHALE\\bariatric\\Data E6.csv\"\n",
    "df=pd.read_csv(df_directory)\n",
    "df"
   ]
  },
  {
   "cell_type": "code",
   "execution_count": null,
   "metadata": {},
   "outputs": [],
   "source": []
  }
 ],
 "metadata": {
  "kernelspec": {
   "display_name": "Python 3",
   "language": "python",
   "name": "python3"
  },
  "language_info": {
   "codemirror_mode": {
    "name": "ipython",
    "version": 3
   },
   "file_extension": ".py",
   "mimetype": "text/x-python",
   "name": "python",
   "nbconvert_exporter": "python",
   "pygments_lexer": "ipython3",
   "version": "3.8.5"
  }
 },
 "nbformat": 4,
 "nbformat_minor": 4
}
